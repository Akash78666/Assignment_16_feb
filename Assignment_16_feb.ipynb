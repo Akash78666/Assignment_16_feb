{
 "cells": [
  {
   "cell_type": "markdown",
   "id": "4560c1c6-3f71-40ca-9127-f9edb85bbc48",
   "metadata": {},
   "source": [
    "What is a database?\n",
    "Ans:-\n",
    "A database is an organized collection of structured information, or data, typically stored electronically in a computer system\n",
    "\n",
    " Differentiate between SQL and NoSQL databases\n",
    " Ans:-\n",
    "MySQL is a relational database that is based on tabular design whereas NoSQL is non-relational in nature with its document-based design\n",
    " "
   ]
  },
  {
   "cell_type": "code",
   "execution_count": null,
   "id": "faed8b72-26c1-4f0a-97ad-495ba911b982",
   "metadata": {},
   "outputs": [],
   "source": [
    " What is DDL? Explain why CREATE, DROP, ALTER, and TRUNCATE ?\n",
    "Ans:-Its used to create and modify database objects such as tables etc. DDL are used to define metadata in the database. By default DDL is auto commit, when ever you a execute a DDL commit is triggered\n",
    "CREATE : Its used to create the table, schema etc\n",
    "ALTER : Modifying existing table by adding column, dropping column\n",
    "DROP : Delete table or any other database objects\n",
    "TRUNCATE : It clears all the data inside a table\n"
   ]
  },
  {
   "cell_type": "code",
   "execution_count": null,
   "id": "c6cde448-d264-4c69-b17e-b127b4c889a4",
   "metadata": {},
   "outputs": [],
   "source": [
    " What is DML? Explain INSERT, UPDATE, and DELETE?\n",
    "Ans:-\n",
    "The  data manipulation language (DML) is used to query and modify database data. In this chapter, we will describe how to use the SELECT, INSERT, UPDATE, and DELETE SQL DML command statements, defined below\n",
    "\n",
    "INSERT  – to insert data into a table\n",
    "UPDATE – to update data in a table\n",
    "DELETE – to delete data from a table"
   ]
  },
  {
   "cell_type": "code",
   "execution_count": null,
   "id": "deca3125-7258-4eb0-94c5-8d1b681dc047",
   "metadata": {},
   "outputs": [],
   "source": [
    "What is DQL? Explain SELECT with an example\n",
    "Ans:-sub-languages are mainly categorized into four categories: a data query language (DQL), a data definition language (DDL), a data control language (DCL), and a data manipulation language (DML).\n",
    "A select query is a database object that shows information in Datasheet view"
   ]
  },
  {
   "cell_type": "code",
   "execution_count": null,
   "id": "31b2cf43-2c81-4645-a706-5b1bacdaca26",
   "metadata": {},
   "outputs": [],
   "source": [
    "Explain Primary Key and Foreign Key?\n",
    "Ans:-\n",
    "A primary key generally focuses on the uniqueness of the table. It assures the value in the specific column is unique. A foreign key is generally used to build a relationship between the two tables.\n"
   ]
  },
  {
   "cell_type": "code",
   "execution_count": null,
   "id": "0af7c379-7892-4455-ab6e-dac386554356",
   "metadata": {},
   "outputs": [],
   "source": [
    " Write a python code to connect MySQL to python. Explain the cursor() and execute() method.\n",
    "import mysql.connector\n",
    "mydb = mysql.connector.connect(\n",
    "  host=\"localhost\",\n",
    "  user=\"abc\",\n",
    "  password=\"password\"\n",
    ")\n",
    "mycursor = mydb.cursor()\n",
    "mycursor.execute(\"insert into test2.test_table values(123,'Akash',232.45,456,'gupta')\")\n",
    "mydb.commit()\n",
    "mydb.close()"
   ]
  },
  {
   "cell_type": "code",
   "execution_count": null,
   "id": "17ecdb7c-7a08-429f-9696-499dc9e42106",
   "metadata": {},
   "outputs": [],
   "source": [
    " Give the order of execution of SQL clauses in an SQL query\n",
    "import mysql.connector\n",
    "mydb = mysql.connector.connect(\n",
    "  host=\"localhost\",\n",
    "  user=\"abc\",\n",
    "  password=\"password\"\n",
    ")\n",
    "mycursor = mydb.cursor()\n",
    "mycursor.execute(\"select* from test2.test_table\")\n",
    "for i in mycursor.fetchall():\n",
    "    print(i)\n",
    "mydb.close()"
   ]
  }
 ],
 "metadata": {
  "kernelspec": {
   "display_name": "Python 3 (ipykernel)",
   "language": "python",
   "name": "python3"
  },
  "language_info": {
   "codemirror_mode": {
    "name": "ipython",
    "version": 3
   },
   "file_extension": ".py",
   "mimetype": "text/x-python",
   "name": "python",
   "nbconvert_exporter": "python",
   "pygments_lexer": "ipython3",
   "version": "3.10.8"
  }
 },
 "nbformat": 4,
 "nbformat_minor": 5
}
